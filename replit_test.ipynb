{
 "cells": [
  {
   "cell_type": "code",
   "execution_count": null,
   "id": "e945df56-37a8-4909-b1c3-b4cbb38d3104",
   "metadata": {},
   "outputs": [],
   "source": [
    "from transformers import AutoModelForCausalLM, AutoTokenizer\n",
    "import torch\n",
    "\n",
    "# load model\n",
    "model = AutoModelForCausalLM.from_pretrained('replit/replit-code-v1-3b', trust_remote_code=True)\n",
    "model.to(device='cuda:0')\n",
    "\n",
    "tokenizer = AutoTokenizer.from_pretrained('replit/replit-code-v1-3b', trust_remote_code=True)\n",
    "\n",
    "# single input encoding + generation\n",
    "x = tokenizer(['def hello():\\n  print(\"hello world\")\\n'], return_tensors='pt').to(device='cuda:0')\n",
    "y = model.generate(**x)\n",
    "\n",
    "# decoding, clean_up_tokenization_spaces=False to ensure syntactical correctness\n",
    "generated_code = tokenizer.decode(y[0], skip_special_tokens=True, clean_up_tokenization_spaces=False)\n",
    "print(generated_code)"
   ]
  }
 ],
 "metadata": {
  "kernelspec": {
   "display_name": "Python 3 (ipykernel)",
   "language": "python",
   "name": "python3"
  },
  "language_info": {
   "codemirror_mode": {
    "name": "ipython",
    "version": 3
   },
   "file_extension": ".py",
   "mimetype": "text/x-python",
   "name": "python",
   "nbconvert_exporter": "python",
   "pygments_lexer": "ipython3",
   "version": "3.10.9"
  }
 },
 "nbformat": 4,
 "nbformat_minor": 5
}
