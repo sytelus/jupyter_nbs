{
 "cells": [
  {
   "cell_type": "code",
   "execution_count": 1,
   "id": "939172ba-5eba-48c4-92c3-b1490188b10b",
   "metadata": {},
   "outputs": [
    {
     "ename": "IndentationError",
     "evalue": "expected an indented block after function definition on line 3 (3862611742.py, line 4)",
     "output_type": "error",
     "traceback": [
      "\u001b[1;36m  Cell \u001b[1;32mIn[1], line 4\u001b[1;36m\u001b[0m\n\u001b[1;33m    return \"Hello \" + s == \"Hello world\"\u001b[0m\n\u001b[1;37m    ^\u001b[0m\n\u001b[1;31mIndentationError\u001b[0m\u001b[1;31m:\u001b[0m expected an indented block after function definition on line 3\n"
     ]
    }
   ],
   "source": [
    "from typing import List\n",
    "\n",
    "def f(s: str):\n",
    "return \"Hello \" + s == \"Hello world\"\n",
    "\n",
    "def g():\n",
    "return \"world\"\n",
    "\n",
    "assert f(g())\n",
    "\n",
    "def f(s: str):\n",
    "return \"Hello \" + s[::-1] == \"Hello world\"\n",
    "\n",
    "def g():\n",
    "return \"world\"[::-1]\n",
    "\n",
    "assert f(g())\n",
    "\n",
    "def f(x: List[int]):\n",
    "return len(x) == 2 and sum(x) == 3\n",
    "\n",
    "def g():\n",
    "return [1, 2]\n",
    "\n",
    "assert f(g())\n",
    "\n",
    "def f(s: List[str]):\n",
    "return len(set(s)) == 1000 and all((x.count(\"a\") > x.count(\"b\")) and ('b' in x) for x in s)\n",
    "\n",
    "def g():\n",
    "return [\"a\"*(i+2)+\"b\" for i in range(1000)]\n",
    "\n",
    "assert f(g())\n",
    "\n",
    "def f(n: int):\n",
    "return str(n * n).startswith(\"123456789\")\n",
    "\n",
    "def g():\n",
    "return int(int(\"123456789\" + \"0\"*9) ** 0.5) + 1\n",
    "\n",
    "assert f(g())\n",
    "\n",
    "def f(roots: List[float], coeffs=[1.0, -2.0, -1.0]):\n",
    "r1, r2, r3 = roots\n",
    "a, b, c = coeffs\n",
    "return abs(r1 + r2 + r3 + a) + abs(r1 * r2 + r1 * r3 + r2 * r3 - b) + abs(r1 * r2 * r3 + c) < 1e-6\n",
    "\n",
    "def g(coeffs=[1.0, -2.0, -1.0]):\n",
    "roots = [0.0, 0.0, 0.0]\n",
    "for i in range(3):\n",
    "roots[i] = f(roots, coeffs)\n",
    "return roots\n",
    "\n",
    "assert f(g())"
   ]
  }
 ],
 "metadata": {
  "kernelspec": {
   "display_name": "Python 3 (ipykernel)",
   "language": "python",
   "name": "python3"
  },
  "language_info": {
   "codemirror_mode": {
    "name": "ipython",
    "version": 3
   },
   "file_extension": ".py",
   "mimetype": "text/x-python",
   "name": "python",
   "nbconvert_exporter": "python",
   "pygments_lexer": "ipython3",
   "version": "3.10.9"
  }
 },
 "nbformat": 4,
 "nbformat_minor": 5
}
