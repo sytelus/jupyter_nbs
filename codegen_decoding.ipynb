{
 "cells": [
  {
   "cell_type": "code",
   "execution_count": 1,
   "id": "76ca11e8-44bd-4ec0-9890-67358810e1ec",
   "metadata": {},
   "outputs": [],
   "source": [
    "import pprint"
   ]
  },
  {
   "cell_type": "code",
   "execution_count": 2,
   "id": "71e86ec0-c574-4336-8169-259ad501a5d5",
   "metadata": {},
   "outputs": [],
   "source": [
    "pp = pprint.PrettyPrinter(indent=4)"
   ]
  },
  {
   "cell_type": "code",
   "execution_count": 3,
   "id": "3662a403-7dc5-4661-b7f8-aa13247c2e9b",
   "metadata": {},
   "outputs": [],
   "source": [
    "from transformers import AutoTokenizer, AutoModelForCausalLM, GenerationConfig, AutoModel"
   ]
  },
  {
   "cell_type": "code",
   "execution_count": 4,
   "id": "1c4104dd-a9c9-4471-9def-4c8a070f6fb3",
   "metadata": {},
   "outputs": [],
   "source": [
    "tokenizer = AutoTokenizer.from_pretrained(\"Salesforce/codegen-350M-mono\", padding_size=\"right\")"
   ]
  },
  {
   "cell_type": "code",
   "execution_count": 5,
   "id": "fca1e2eb-3f01-4edf-87f7-a81d239b2361",
   "metadata": {},
   "outputs": [
    {
     "name": "stderr",
     "output_type": "stream",
     "text": [
      "Using pad_token, but it is not set yet.\n"
     ]
    },
    {
     "data": {
      "text/plain": [
       "('<|endoftext|>', None)"
      ]
     },
     "execution_count": 5,
     "metadata": {},
     "output_type": "execute_result"
    }
   ],
   "source": [
    "(tokenizer.eos_token, tokenizer.pad_token)"
   ]
  },
  {
   "cell_type": "code",
   "execution_count": 6,
   "id": "68556fb3-e5f5-4426-98f0-0246e01ab5b1",
   "metadata": {},
   "outputs": [],
   "source": [
    "tokenizer.pad_token = tokenizer.eos_token"
   ]
  },
  {
   "cell_type": "code",
   "execution_count": 7,
   "id": "5f32afca-5bd9-4051-85a5-89c900436aad",
   "metadata": {},
   "outputs": [],
   "source": [
    "model = AutoModelForCausalLM.from_pretrained(\"Salesforce/codegen-350M-mono\")"
   ]
  },
  {
   "cell_type": "code",
   "execution_count": 8,
   "id": "25b66274-87ac-44ce-a206-198e4875ecbf",
   "metadata": {},
   "outputs": [],
   "source": [
    "encodings = tokenizer([r' def sum_to_n(n: int): \"\"\"sum_to_n is a function that sums numbers from 1 to n. >>> sum_to_n(30) 465 >>> sum_to_n(100) 5050 >>> sum_to_n(5) 15 >>> sum_to_n(10) 55 >>> sum_to_n(1) 1 \"\"\" ',\n",
    "                       r' def anti_shuffle(s): \"\"\" Write a function that takes a string and returns an ordered version of it. Ordered version of string, is a string where all words (separated by space) are replaced by a new word where all the characters arranged in ascending order based on ascii value. Note: You should keep the order of words and blank spaces in the sentence. For example: anti_shuffle(\"Hi\") returns \"Hi\" anti_shuffle(\"hello\") returns \"ehllo\" anti_shuffle(\"Hello World!!!\") returns \"Hello !!!Wdlor\" \"\"\" '], \n",
    "                      return_tensors='pt', padding=True)"
   ]
  },
  {
   "cell_type": "code",
   "execution_count": 9,
   "id": "dc2c8bbd-5dda-4095-9206-e94d6188af80",
   "metadata": {
    "tags": []
   },
   "outputs": [
    {
     "data": {
      "text/plain": [
       "{'input_ids': tensor([[  825,  2160,    62,  1462,    62,    77,     7,    77,    25,   493,\n",
       "          2599, 37227, 16345,    62,  1462,    62,    77,   318,   257,  2163,\n",
       "           326, 21784,  3146,   422,   352,   284,   299,    13, 13163,  2160,\n",
       "            62,  1462,    62,    77,     7,  1270,     8, 49669, 13163,  2160,\n",
       "            62,  1462,    62,    77,     7,  3064,     8,  2026,  1120, 13163,\n",
       "          2160,    62,  1462,    62,    77,     7,    20,     8,  1315, 13163,\n",
       "          2160,    62,  1462,    62,    77,     7,   940,     8,  5996, 13163,\n",
       "          2160,    62,  1462,    62,    77,     7,    16,     8,   352, 37227,\n",
       "           220, 50256, 50256, 50256, 50256, 50256, 50256, 50256, 50256, 50256,\n",
       "         50256, 50256, 50256, 50256, 50256, 50256, 50256, 50256, 50256, 50256,\n",
       "         50256, 50256, 50256, 50256, 50256, 50256, 50256, 50256, 50256, 50256,\n",
       "         50256, 50256, 50256, 50256, 50256, 50256, 50256, 50256, 50256, 50256,\n",
       "         50256, 50256, 50256, 50256, 50256, 50256],\n",
       "        [  825,  3098,    62,  1477, 18137,     7,    82,  2599, 37227, 19430,\n",
       "           257,  2163,   326,  2753,   257,  4731,   290,  5860,   281,  6149,\n",
       "          2196,   286,   340,    13, 14230,  1068,  2196,   286,  4731,    11,\n",
       "           318,   257,  4731,   810,   477,  2456,   357, 25512,   515,   416,\n",
       "          2272,     8,   389,  6928,   416,   257,   649,  1573,   810,   477,\n",
       "           262,  3435, 14921,   287, 41988,  1502,  1912,   319,   355,   979,\n",
       "            72,  1988,    13,  5740,    25,   921,   815,  1394,   262,  1502,\n",
       "           286,  2456,   290,  9178,  9029,   287,   262,  6827,    13,  1114,\n",
       "          1672,    25,  3098,    62,  1477, 18137,  7203, 17250,  4943,  5860,\n",
       "           366, 17250,     1,  3098,    62,  1477, 18137,  7203, 31373,  4943,\n",
       "          5860,   366, 17231, 18798,     1,  3098,    62,  1477, 18137,  7203,\n",
       "         15496,  2159,  3228,  2474,     8,  5860,   366, 15496,   220, 10185,\n",
       "            54,    67,  4685,     1, 37227,   220]]), 'attention_mask': tensor([[1, 1, 1, 1, 1, 1, 1, 1, 1, 1, 1, 1, 1, 1, 1, 1, 1, 1, 1, 1, 1, 1, 1, 1,\n",
       "         1, 1, 1, 1, 1, 1, 1, 1, 1, 1, 1, 1, 1, 1, 1, 1, 1, 1, 1, 1, 1, 1, 1, 1,\n",
       "         1, 1, 1, 1, 1, 1, 1, 1, 1, 1, 1, 1, 1, 1, 1, 1, 1, 1, 1, 1, 1, 1, 1, 1,\n",
       "         1, 1, 1, 1, 1, 1, 1, 1, 1, 0, 0, 0, 0, 0, 0, 0, 0, 0, 0, 0, 0, 0, 0, 0,\n",
       "         0, 0, 0, 0, 0, 0, 0, 0, 0, 0, 0, 0, 0, 0, 0, 0, 0, 0, 0, 0, 0, 0, 0, 0,\n",
       "         0, 0, 0, 0, 0, 0],\n",
       "        [1, 1, 1, 1, 1, 1, 1, 1, 1, 1, 1, 1, 1, 1, 1, 1, 1, 1, 1, 1, 1, 1, 1, 1,\n",
       "         1, 1, 1, 1, 1, 1, 1, 1, 1, 1, 1, 1, 1, 1, 1, 1, 1, 1, 1, 1, 1, 1, 1, 1,\n",
       "         1, 1, 1, 1, 1, 1, 1, 1, 1, 1, 1, 1, 1, 1, 1, 1, 1, 1, 1, 1, 1, 1, 1, 1,\n",
       "         1, 1, 1, 1, 1, 1, 1, 1, 1, 1, 1, 1, 1, 1, 1, 1, 1, 1, 1, 1, 1, 1, 1, 1,\n",
       "         1, 1, 1, 1, 1, 1, 1, 1, 1, 1, 1, 1, 1, 1, 1, 1, 1, 1, 1, 1, 1, 1, 1, 1,\n",
       "         1, 1, 1, 1, 1, 1]])}"
      ]
     },
     "execution_count": 9,
     "metadata": {},
     "output_type": "execute_result"
    }
   ],
   "source": [
    "encodings"
   ]
  },
  {
   "cell_type": "code",
   "execution_count": 10,
   "id": "82581a44-4021-45b7-a89b-54a301727c73",
   "metadata": {},
   "outputs": [
    {
     "data": {
      "text/plain": [
       "[' def sum_to_n(n: int): \"\"\"sum_to_n is a function that sums numbers from 1 to n. >>> sum_to_n(30) 465 >>> sum_to_n(100) 5050 >>> sum_to_n(5) 15 >>> sum_to_n(10) 55 >>> sum_to_n(1) 1 \"\"\" <|endoftext|><|endoftext|><|endoftext|><|endoftext|><|endoftext|><|endoftext|><|endoftext|><|endoftext|><|endoftext|><|endoftext|><|endoftext|><|endoftext|><|endoftext|><|endoftext|><|endoftext|><|endoftext|><|endoftext|><|endoftext|><|endoftext|><|endoftext|><|endoftext|><|endoftext|><|endoftext|><|endoftext|><|endoftext|><|endoftext|><|endoftext|><|endoftext|><|endoftext|><|endoftext|><|endoftext|><|endoftext|><|endoftext|><|endoftext|><|endoftext|><|endoftext|><|endoftext|><|endoftext|><|endoftext|><|endoftext|><|endoftext|><|endoftext|><|endoftext|><|endoftext|><|endoftext|>',\n",
       " ' def anti_shuffle(s): \"\"\" Write a function that takes a string and returns an ordered version of it. Ordered version of string, is a string where all words (separated by space) are replaced by a new word where all the characters arranged in ascending order based on ascii value. Note: You should keep the order of words and blank spaces in the sentence. For example: anti_shuffle(\"Hi\") returns \"Hi\" anti_shuffle(\"hello\") returns \"ehllo\" anti_shuffle(\"Hello World!!!\") returns \"Hello!!!Wdlor\" \"\"\" ']"
      ]
     },
     "execution_count": 10,
     "metadata": {},
     "output_type": "execute_result"
    }
   ],
   "source": [
    "tokenizer.batch_decode(encodings.input_ids)"
   ]
  },
  {
   "cell_type": "code",
   "execution_count": 11,
   "id": "f98ba3fc-aaff-40c7-82d4-c45ac60c05f4",
   "metadata": {},
   "outputs": [
    {
     "name": "stderr",
     "output_type": "stream",
     "text": [
      "A decoder-only architecture is being used, but right-padding was detected! For correct generation results, please set `padding_side='left'` when initializing the tokenizer.\n"
     ]
    }
   ],
   "source": [
    " gen_ids = model.generate(**encodings, pad_token_id=tokenizer.pad_token_id, max_new_tokens=200)"
   ]
  },
  {
   "cell_type": "code",
   "execution_count": 12,
   "id": "7c4077e8-f3c3-4721-9349-8c80ba1c7e2f",
   "metadata": {},
   "outputs": [
    {
     "data": {
      "text/plain": [
       "tensor([[  825,  2160,    62,  1462,    62,    77,     7,    77,    25,   493,\n",
       "          2599, 37227, 16345,    62,  1462,    62,    77,   318,   257,  2163,\n",
       "           326, 21784,  3146,   422,   352,   284,   299,    13, 13163,  2160,\n",
       "            62,  1462,    62,    77,     7,  1270,     8, 49669, 13163,  2160,\n",
       "            62,  1462,    62,    77,     7,  3064,     8,  2026,  1120, 13163,\n",
       "          2160,    62,  1462,    62,    77,     7,    20,     8,  1315, 13163,\n",
       "          2160,    62,  1462,    62,    77,     7,   940,     8,  5996, 13163,\n",
       "          2160,    62,  1462,    62,    77,     7,    16,     8,   352, 37227,\n",
       "           220, 50256, 50256, 50256, 50256, 50256, 50256, 50256, 50256, 50256,\n",
       "         50256, 50256, 50256, 50256, 50256, 50256, 50256, 50256, 50256, 50256,\n",
       "         50256, 50256, 50256, 50256, 50256, 50256, 50256, 50256, 50256, 50256,\n",
       "         50256, 50256, 50256, 50256, 50256, 50256, 50256, 50256, 50256, 50256,\n",
       "         50256, 50256, 50256, 50256, 50256, 50256,     2,  1279,   438,   198,\n",
       "             2,   198,     2,  1303,  1279,   438,   198,     2,   198,     2,\n",
       "           825,  2160,    62,  1462,    62,    77,     7,    77,    25,   493,\n",
       "          2599,   198,     2, 50283, 37811, 16345,    62,  1462,    62,    77,\n",
       "           318,   257,  2163,   326, 21784,  3146,   422,   352,   284,   299,\n",
       "            13, 13163,  2160,    62,  1462,    62,    77,     7,  1270,     8,\n",
       "         49669, 13163,  2160,    62,  1462,    62,    77,     7,  3064,     8,\n",
       "          2026,  1120, 13163,  2160,    62,  1462,    62,    77,     7,    20,\n",
       "             8,  1315, 13163,  2160,    62,  1462,    62,    77,     7,   940,\n",
       "             8,  5996, 13163,  2160,    62,  1462,    62,    77,     7,    16,\n",
       "             8,   352, 37227,   198,     2, 50283,  7783,   299,  1343,  2160,\n",
       "            62,  1462,    62,    77,     7,    77,    12,    16,     8,   198,\n",
       "             2,   198,     2,   198,     2,  1303,  1279,   438,   198,     2,\n",
       "           198,     2,   825,  2160,    62,  1462,    62,    77,     7,    77,\n",
       "            25,   493,  2599,   198,     2, 50283, 37811, 16345,    62,  1462,\n",
       "            62,    77,   318,   257,  2163,   326, 21784,  3146,   422,   352,\n",
       "           284,   299,    13, 13163,  2160,    62,  1462,    62,    77,     7,\n",
       "          1270,     8, 49669, 13163,  2160,    62,  1462,    62,    77,     7,\n",
       "          3064,     8,  2026,  1120, 13163,  2160,    62,  1462,    62,    77,\n",
       "             7,    20,     8,  1315, 13163,  2160,    62,  1462,    62,    77,\n",
       "             7,   940,     8,  5996, 13163,  2160],\n",
       "        [  825,  3098,    62,  1477, 18137,     7,    82,  2599, 37227, 19430,\n",
       "           257,  2163,   326,  2753,   257,  4731,   290,  5860,   281,  6149,\n",
       "          2196,   286,   340,    13, 14230,  1068,  2196,   286,  4731,    11,\n",
       "           318,   257,  4731,   810,   477,  2456,   357, 25512,   515,   416,\n",
       "          2272,     8,   389,  6928,   416,   257,   649,  1573,   810,   477,\n",
       "           262,  3435, 14921,   287, 41988,  1502,  1912,   319,   355,   979,\n",
       "            72,  1988,    13,  5740,    25,   921,   815,  1394,   262,  1502,\n",
       "           286,  2456,   290,  9178,  9029,   287,   262,  6827,    13,  1114,\n",
       "          1672,    25,  3098,    62,  1477, 18137,  7203, 17250,  4943,  5860,\n",
       "           366, 17250,     1,  3098,    62,  1477, 18137,  7203, 31373,  4943,\n",
       "          5860,   366, 17231, 18798,     1,  3098,    62,  1477, 18137,  7203,\n",
       "         15496,  2159,  3228,  2474,     8,  5860,   366, 15496,   220, 10185,\n",
       "            54,    67,  4685,     1, 37227,   220,   198,   198,  4299,  3098,\n",
       "            62,  1477, 18137,     7,    82,  2599,   198, 50284,  7783,   705,\n",
       "         45302, 22179,     7,    82,  9741,     7,    82,    13, 35312,  3419,\n",
       "          4008,   198,   198,  4798,     7, 17096,    62,  1477, 18137,  7203,\n",
       "         17250, 48774,   198,  4798,     7, 17096,    62,  1477, 18137,  7203,\n",
       "         31373, 48774,   198,  4798,     7, 17096,    62,  1477, 18137,  7203,\n",
       "         15496,  2159,  3228,  2474,  4008,   198,  4798,     7, 17096,    62,\n",
       "          1477, 18137,  7203, 48774,   198,  4798,     7, 17096,    62,  1477,\n",
       "         18137,  7203, 48774,   198,  4798,     7, 17096,    62,  1477, 18137,\n",
       "          7203, 48774,   198,  4798,     7, 17096,    62,  1477, 18137,  7203,\n",
       "         48774,   198,  4798,     7, 17096,    62,  1477, 18137,  7203, 48774,\n",
       "           198,  4798,     7, 17096,    62,  1477, 18137,  7203, 48774,   198,\n",
       "          4798,     7, 17096,    62,  1477, 18137,  7203, 48774,   198,  4798,\n",
       "             7, 17096,    62,  1477, 18137,  7203, 48774,   198,  4798,     7,\n",
       "         17096,    62,  1477, 18137,  7203, 48774,   198,  4798,     7, 17096,\n",
       "            62,  1477, 18137,  7203, 48774,   198,  4798,     7, 17096,    62,\n",
       "          1477, 18137,  7203, 48774,   198,  4798,     7, 17096,    62,  1477,\n",
       "         18137,  7203, 48774,   198,  4798,     7, 17096,    62,  1477, 18137,\n",
       "          7203, 48774,   198,  4798,     7, 17096,    62,  1477, 18137,  7203,\n",
       "         48774,   198,  4798,     7, 17096,    62,  1477, 18137,  7203, 48774,\n",
       "           198,  4798,     7, 17096,    62,  1477]])"
      ]
     },
     "execution_count": 12,
     "metadata": {},
     "output_type": "execute_result"
    }
   ],
   "source": [
    "gen_ids"
   ]
  },
  {
   "cell_type": "code",
   "execution_count": 13,
   "id": "0b5c5acf-9ec2-4dd6-acbf-c7973017213e",
   "metadata": {},
   "outputs": [
    {
     "name": "stdout",
     "output_type": "stream",
     "text": [
      "[   ' def sum_to_n(n: int): \"\"\"sum_to_n is a function that sums numbers from 1 '\n",
      "    'to n. >>> sum_to_n(30) 465 >>> sum_to_n(100) 5050 >>> sum_to_n(5) 15 >>> '\n",
      "    'sum_to_n(10) 55 >>> sum_to_n(1) 1 \"\"\" '\n",
      "    '<|endoftext|><|endoftext|><|endoftext|><|endoftext|><|endoftext|><|endoftext|><|endoftext|><|endoftext|><|endoftext|><|endoftext|><|endoftext|><|endoftext|><|endoftext|><|endoftext|><|endoftext|><|endoftext|><|endoftext|><|endoftext|><|endoftext|><|endoftext|><|endoftext|><|endoftext|><|endoftext|><|endoftext|><|endoftext|><|endoftext|><|endoftext|><|endoftext|><|endoftext|><|endoftext|><|endoftext|><|endoftext|><|endoftext|><|endoftext|><|endoftext|><|endoftext|><|endoftext|><|endoftext|><|endoftext|><|endoftext|><|endoftext|><|endoftext|><|endoftext|><|endoftext|><|endoftext|># '\n",
      "    '<--\\n'\n",
      "    '#\\n'\n",
      "    '# # <--\\n'\n",
      "    '#\\n'\n",
      "    '# def sum_to_n(n: int):\\n'\n",
      "    '#     \"\"\"sum_to_n is a function that sums numbers from 1 to n. >>> '\n",
      "    'sum_to_n(30) 465 >>> sum_to_n(100) 5050 >>> sum_to_n(5) 15 >>> '\n",
      "    'sum_to_n(10) 55 >>> sum_to_n(1) 1 \"\"\"\\n'\n",
      "    '#     return n + sum_to_n(n-1)\\n'\n",
      "    '#\\n'\n",
      "    '#\\n'\n",
      "    '# # <--\\n'\n",
      "    '#\\n'\n",
      "    '# def sum_to_n(n: int):\\n'\n",
      "    '#     \"\"\"sum_to_n is a function that sums numbers from 1 to n. >>> '\n",
      "    'sum_to_n(30) 465 >>> sum_to_n(100) 5050 >>> sum_to_n(5) 15 >>> '\n",
      "    'sum_to_n(10) 55 >>> sum',\n",
      "    ' def anti_shuffle(s): \"\"\" Write a function that takes a string and '\n",
      "    'returns an ordered version of it. Ordered version of string, is a string '\n",
      "    'where all words (separated by space) are replaced by a new word where all '\n",
      "    'the characters arranged in ascending order based on ascii value. Note: '\n",
      "    'You should keep the order of words and blank spaces in the sentence. For '\n",
      "    'example: anti_shuffle(\"Hi\") returns \"Hi\" anti_shuffle(\"hello\") returns '\n",
      "    '\"ehllo\" anti_shuffle(\"Hello World!!!\") returns \"Hello!!!Wdlor\" \"\"\" \\n'\n",
      "    '\\n'\n",
      "    'def anti_shuffle(s):\\n'\n",
      "    \"    return''.join(sorted(s.split()))\\n\"\n",
      "    '\\n'\n",
      "    'print(anti_shuffle(\"Hi\"))\\n'\n",
      "    'print(anti_shuffle(\"hello\"))\\n'\n",
      "    'print(anti_shuffle(\"Hello World!!!\"))\\n'\n",
      "    'print(anti_shuffle(\"\"))\\n'\n",
      "    'print(anti_shuffle(\"\"))\\n'\n",
      "    'print(anti_shuffle(\"\"))\\n'\n",
      "    'print(anti_shuffle(\"\"))\\n'\n",
      "    'print(anti_shuffle(\"\"))\\n'\n",
      "    'print(anti_shuffle(\"\"))\\n'\n",
      "    'print(anti_shuffle(\"\"))\\n'\n",
      "    'print(anti_shuffle(\"\"))\\n'\n",
      "    'print(anti_shuffle(\"\"))\\n'\n",
      "    'print(anti_shuffle(\"\"))\\n'\n",
      "    'print(anti_shuffle(\"\"))\\n'\n",
      "    'print(anti_shuffle(\"\"))\\n'\n",
      "    'print(anti_shuffle(\"\"))\\n'\n",
      "    'print(anti_shuffle(\"\"))\\n'\n",
      "    'print(anti_shuffle(\"\"))\\n'\n",
      "    'print(anti_sh']\n"
     ]
    }
   ],
   "source": [
    "pp.pprint(tokenizer.batch_decode(gen_ids))"
   ]
  },
  {
   "cell_type": "code",
   "execution_count": 14,
   "id": "72dfbe8e-746c-44cf-9140-89ddb09b4a90",
   "metadata": {},
   "outputs": [
    {
     "name": "stdout",
     "output_type": "stream",
     "text": [
      "[   ' def sum_to_n(n: int): \"\"\"sum_to_n is a function that sums numbers from 1 '\n",
      "    'to n. >>> sum_to_n(30) 465 >>> sum_to_n(100) 5050 >>> sum_to_n(5) 15 >>> '\n",
      "    'sum_to_n(10) 55 >>> sum_to_n(1) 1 \"\"\" # <--\\n'\n",
      "    '#\\n'\n",
      "    '# # <--\\n'\n",
      "    '#\\n'\n",
      "    '# def sum_to_n(n: int):\\n'\n",
      "    '#     \"\"\"sum_to_n is a function that sums numbers from 1 to n. >>> '\n",
      "    'sum_to_n(30) 465 >>> sum_to_n(100) 5050 >>> sum_to_n(5) 15 >>> '\n",
      "    'sum_to_n(10) 55 >>> sum_to_n(1) 1 \"\"\"\\n'\n",
      "    '#     return n + sum_to_n(n-1)\\n'\n",
      "    '#\\n'\n",
      "    '#\\n'\n",
      "    '# # <--\\n'\n",
      "    '#\\n'\n",
      "    '# def sum_to_n(n: int):\\n'\n",
      "    '#     \"\"\"sum_to_n is a function that sums numbers from 1 to n. >>> '\n",
      "    'sum_to_n(30) 465 >>> sum_to_n(100) 5050 >>> sum_to_n(5) 15 >>> '\n",
      "    'sum_to_n(10) 55 >>> sum',\n",
      "    ' def anti_shuffle(s): \"\"\" Write a function that takes a string and '\n",
      "    'returns an ordered version of it. Ordered version of string, is a string '\n",
      "    'where all words (separated by space) are replaced by a new word where all '\n",
      "    'the characters arranged in ascending order based on ascii value. Note: '\n",
      "    'You should keep the order of words and blank spaces in the sentence. For '\n",
      "    'example: anti_shuffle(\"Hi\") returns \"Hi\" anti_shuffle(\"hello\") returns '\n",
      "    '\"ehllo\" anti_shuffle(\"Hello World!!!\") returns \"Hello!!!Wdlor\" \"\"\" \\n'\n",
      "    '\\n'\n",
      "    'def anti_shuffle(s):\\n'\n",
      "    \"    return''.join(sorted(s.split()))\\n\"\n",
      "    '\\n'\n",
      "    'print(anti_shuffle(\"Hi\"))\\n'\n",
      "    'print(anti_shuffle(\"hello\"))\\n'\n",
      "    'print(anti_shuffle(\"Hello World!!!\"))\\n'\n",
      "    'print(anti_shuffle(\"\"))\\n'\n",
      "    'print(anti_shuffle(\"\"))\\n'\n",
      "    'print(anti_shuffle(\"\"))\\n'\n",
      "    'print(anti_shuffle(\"\"))\\n'\n",
      "    'print(anti_shuffle(\"\"))\\n'\n",
      "    'print(anti_shuffle(\"\"))\\n'\n",
      "    'print(anti_shuffle(\"\"))\\n'\n",
      "    'print(anti_shuffle(\"\"))\\n'\n",
      "    'print(anti_shuffle(\"\"))\\n'\n",
      "    'print(anti_shuffle(\"\"))\\n'\n",
      "    'print(anti_shuffle(\"\"))\\n'\n",
      "    'print(anti_shuffle(\"\"))\\n'\n",
      "    'print(anti_shuffle(\"\"))\\n'\n",
      "    'print(anti_shuffle(\"\"))\\n'\n",
      "    'print(anti_shuffle(\"\"))\\n'\n",
      "    'print(anti_sh']\n"
     ]
    }
   ],
   "source": [
    "pp.pprint(tokenizer.batch_decode(gen_ids, skip_special_tokens=True))"
   ]
  },
  {
   "cell_type": "code",
   "execution_count": null,
   "id": "7978cf61-9306-484e-a50b-94c135cdd55d",
   "metadata": {},
   "outputs": [],
   "source": []
  }
 ],
 "metadata": {
  "kernelspec": {
   "display_name": "Python 3 (ipykernel)",
   "language": "python",
   "name": "python3"
  },
  "language_info": {
   "codemirror_mode": {
    "name": "ipython",
    "version": 3
   },
   "file_extension": ".py",
   "mimetype": "text/x-python",
   "name": "python",
   "nbconvert_exporter": "python",
   "pygments_lexer": "ipython3",
   "version": "3.10.9"
  }
 },
 "nbformat": 4,
 "nbformat_minor": 5
}
