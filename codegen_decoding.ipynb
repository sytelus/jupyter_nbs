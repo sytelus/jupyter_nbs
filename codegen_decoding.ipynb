{
 "cells": [
  {
   "cell_type": "code",
   "execution_count": 1,
   "id": "76ca11e8-44bd-4ec0-9890-67358810e1ec",
   "metadata": {},
   "outputs": [],
   "source": [
    "import pprint"
   ]
  },
  {
   "cell_type": "code",
   "execution_count": 2,
   "id": "71e86ec0-c574-4336-8169-259ad501a5d5",
   "metadata": {},
   "outputs": [],
   "source": [
    "pp = pprint.PrettyPrinter(indent=4)"
   ]
  },
  {
   "cell_type": "code",
   "execution_count": 3,
   "id": "3662a403-7dc5-4661-b7f8-aa13247c2e9b",
   "metadata": {},
   "outputs": [],
   "source": [
    "from transformers import AutoTokenizer, AutoModelForCausalLM, GenerationConfig, AutoModel"
   ]
  },
  {
   "cell_type": "code",
   "execution_count": 4,
   "id": "1c4104dd-a9c9-4471-9def-4c8a070f6fb3",
   "metadata": {},
   "outputs": [],
   "source": [
    "tokenizer = AutoTokenizer.from_pretrained(\"Salesforce/codegen-350M-mono\", padding_size=\"left\")"
   ]
  },
  {
   "cell_type": "code",
   "execution_count": 5,
   "id": "fca1e2eb-3f01-4edf-87f7-a81d239b2361",
   "metadata": {},
   "outputs": [
    {
     "name": "stderr",
     "output_type": "stream",
     "text": [
      "Using pad_token, but it is not set yet.\n"
     ]
    },
    {
     "data": {
      "text/plain": [
       "('<|endoftext|>', None)"
      ]
     },
     "execution_count": 5,
     "metadata": {},
     "output_type": "execute_result"
    }
   ],
   "source": [
    "(tokenizer.eos_token, tokenizer.pad_token)"
   ]
  },
  {
   "cell_type": "code",
   "execution_count": 6,
   "id": "68556fb3-e5f5-4426-98f0-0246e01ab5b1",
   "metadata": {},
   "outputs": [],
   "source": [
    "# tokenizer.pad_token = tokenizer.eos_token"
   ]
  },
  {
   "cell_type": "code",
   "execution_count": 7,
   "id": "5f32afca-5bd9-4051-85a5-89c900436aad",
   "metadata": {},
   "outputs": [],
   "source": [
    "model = AutoModelForCausalLM.from_pretrained(\"Salesforce/codegen-350M-mono\")"
   ]
  },
  {
   "cell_type": "code",
   "execution_count": 11,
   "id": "25b66274-87ac-44ce-a206-198e4875ecbf",
   "metadata": {},
   "outputs": [],
   "source": [
    "encodings = tokenizer([\n",
    "                        r' def sum_to_n(n: int): \"\"\"sum_to_n is a function that sums numbers from 1 to n. >>> sum_to_n(30) 465 >>> sum_to_n(100) 5050 >>> sum_to_n(5) 15 >>> sum_to_n(10) 55 >>> sum_to_n(1) 1 \"\"\" ',\n",
    "                       #r' def anti_shuffle(s): \"\"\" Write a function that takes a string and returns an ordered version of it. Ordered version of string, is a string where all words (separated by space) are replaced by a new word where all the characters arranged in ascending order based on ascii value. Note: You should keep the order of words and blank spaces in the sentence. For example: anti_shuffle(\"Hi\") returns \"Hi\" anti_shuffle(\"hello\") returns \"ehllo\" anti_shuffle(\"Hello World!!!\") returns \"Hello !!!Wdlor\" \"\"\" '\n",
    "                      ], \n",
    "                      return_tensors='pt')"
   ]
  },
  {
   "cell_type": "code",
   "execution_count": 12,
   "id": "dc2c8bbd-5dda-4095-9206-e94d6188af80",
   "metadata": {
    "tags": []
   },
   "outputs": [
    {
     "data": {
      "text/plain": [
       "{'input_ids': tensor([[  825,  2160,    62,  1462,    62,    77,     7,    77,    25,   493,\n",
       "          2599, 37227, 16345,    62,  1462,    62,    77,   318,   257,  2163,\n",
       "           326, 21784,  3146,   422,   352,   284,   299,    13, 13163,  2160,\n",
       "            62,  1462,    62,    77,     7,  1270,     8, 49669, 13163,  2160,\n",
       "            62,  1462,    62,    77,     7,  3064,     8,  2026,  1120, 13163,\n",
       "          2160,    62,  1462,    62,    77,     7,    20,     8,  1315, 13163,\n",
       "          2160,    62,  1462,    62,    77,     7,   940,     8,  5996, 13163,\n",
       "          2160,    62,  1462,    62,    77,     7,    16,     8,   352, 37227,\n",
       "           220]]), 'attention_mask': tensor([[1, 1, 1, 1, 1, 1, 1, 1, 1, 1, 1, 1, 1, 1, 1, 1, 1, 1, 1, 1, 1, 1, 1, 1,\n",
       "         1, 1, 1, 1, 1, 1, 1, 1, 1, 1, 1, 1, 1, 1, 1, 1, 1, 1, 1, 1, 1, 1, 1, 1,\n",
       "         1, 1, 1, 1, 1, 1, 1, 1, 1, 1, 1, 1, 1, 1, 1, 1, 1, 1, 1, 1, 1, 1, 1, 1,\n",
       "         1, 1, 1, 1, 1, 1, 1, 1, 1]])}"
      ]
     },
     "execution_count": 12,
     "metadata": {},
     "output_type": "execute_result"
    }
   ],
   "source": [
    "encodings"
   ]
  },
  {
   "cell_type": "code",
   "execution_count": 13,
   "id": "82581a44-4021-45b7-a89b-54a301727c73",
   "metadata": {},
   "outputs": [
    {
     "data": {
      "text/plain": [
       "[' def sum_to_n(n: int): \"\"\"sum_to_n is a function that sums numbers from 1 to n. >>> sum_to_n(30) 465 >>> sum_to_n(100) 5050 >>> sum_to_n(5) 15 >>> sum_to_n(10) 55 >>> sum_to_n(1) 1 \"\"\" ']"
      ]
     },
     "execution_count": 13,
     "metadata": {},
     "output_type": "execute_result"
    }
   ],
   "source": [
    "tokenizer.batch_decode(encodings.input_ids)"
   ]
  },
  {
   "cell_type": "code",
   "execution_count": 15,
   "id": "f98ba3fc-aaff-40c7-82d4-c45ac60c05f4",
   "metadata": {},
   "outputs": [
    {
     "name": "stderr",
     "output_type": "stream",
     "text": [
      "Setting `pad_token_id` to `eos_token_id`:50256 for open-end generation.\n"
     ]
    }
   ],
   "source": [
    " gen_ids = model.generate(**encodings, max_new_tokens=200)"
   ]
  },
  {
   "cell_type": "code",
   "execution_count": null,
   "id": "7c4077e8-f3c3-4721-9349-8c80ba1c7e2f",
   "metadata": {},
   "outputs": [],
   "source": [
    "gen_ids"
   ]
  },
  {
   "cell_type": "code",
   "execution_count": null,
   "id": "0b5c5acf-9ec2-4dd6-acbf-c7973017213e",
   "metadata": {},
   "outputs": [],
   "source": [
    "pp.pprint(tokenizer.batch_decode(gen_ids))"
   ]
  },
  {
   "cell_type": "code",
   "execution_count": null,
   "id": "72dfbe8e-746c-44cf-9140-89ddb09b4a90",
   "metadata": {},
   "outputs": [],
   "source": [
    "pp.pprint(tokenizer.batch_decode(gen_ids, skip_special_tokens=True))"
   ]
  },
  {
   "cell_type": "code",
   "execution_count": null,
   "id": "7978cf61-9306-484e-a50b-94c135cdd55d",
   "metadata": {},
   "outputs": [],
   "source": []
  }
 ],
 "metadata": {
  "kernelspec": {
   "display_name": "Python 3 (ipykernel)",
   "language": "python",
   "name": "python3"
  },
  "language_info": {
   "codemirror_mode": {
    "name": "ipython",
    "version": 3
   },
   "file_extension": ".py",
   "mimetype": "text/x-python",
   "name": "python",
   "nbconvert_exporter": "python",
   "pygments_lexer": "ipython3",
   "version": "3.10.9"
  }
 },
 "nbformat": 4,
 "nbformat_minor": 5
}
